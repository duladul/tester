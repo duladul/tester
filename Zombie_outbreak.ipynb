{
 "cells": [
  {
   "cell_type": "code",
   "execution_count": 1,
   "id": "54f8bb39-e950-47bf-9d03-829a0ac335d0",
   "metadata": {},
   "outputs": [],
   "source": [
    "using Agents, Turing, Random"
   ]
  },
  {
   "cell_type": "code",
   "execution_count": 2,
   "id": "1e021480-dfa6-425f-a236-21e2866d0109",
   "metadata": {},
   "outputs": [],
   "source": [
    "@agent Depozitar OSMAgent begin\n",
    "    capacitate_m3::Float32\n",
    "    greutate_max_g::Float32\n",
    "    avg_timp_contact_s::Float32\n",
    "    dev_timp_contact_s::Float32\n",
    "    timpi_contact_s::Vector{Float32}\n",
    "    probabilitate_livrare_corecta::Float32\n",
    "    comision_prc::Float32\n",
    "end"
   ]
  },
  {
   "cell_type": "code",
   "execution_count": 3,
   "id": "ea50706d-5cc0-4768-b512-4ca2f5dd1245",
   "metadata": {},
   "outputs": [],
   "source": [
    "@agent Transportor OSMAgent begin\n",
    "    capacitate_m3::Float32\n",
    "    distanta_max_km::Float32\n",
    "    tol_distanta_max::Float32\n",
    "    istoric_distante::Vector{Float32}\n",
    "    avg_timp_contact_s::Float32\n",
    "    dev_timp_contact_s::Float32\n",
    "    dev_timp_prezis_sosire::Float32\n",
    "    timpi_prezisi_sosire::Vector{Float32}\n",
    "    timpi_contact_s::Vector{Float32}\n",
    "    probabilitate_livrare_corecta::Float32\n",
    "    comision_prc::Float32\n",
    "end"
   ]
  },
  {
   "cell_type": "code",
   "execution_count": 4,
   "id": "952ab24c-3bc7-4430-99d8-fb3d2a2caaae",
   "metadata": {},
   "outputs": [
    {
     "data": {
      "text/plain": [
       "initialise (generic function with 1 method)"
      ]
     },
     "execution_count": 4,
     "metadata": {},
     "output_type": "execute_result"
    }
   ],
   "source": [
    "function initialise(; map_path = \"map.osm\")\n",
    "    model = ABM(Union{Transportor, Depozitar}, OpenStreetMapSpace(map_path))\n",
    "    for id in 1:100\n",
    "        start = random_position(model)\n",
    "        if model.rng > .8\n",
    "            finish = start\n",
    "            e_depozitar = true\n",
    "            e_transportor = false\n",
    "            capacitate_m3 = rand(Exponential(20))\n",
    "            timp_iesire_bloc_s = rand(Exponential(100))\n",
    "        else\n",
    "            finish = random_position(model)\n",
    "            e_depozitar = false\n",
    "            e_transportor = true\n",
    "            capacitate_m3 = rand(Exponential(2))\n",
    "            timp_iesire_bloc_s = 0.\n",
    "        end\n",
    "        route = OSM.plan_route(start, finish, model)\n",
    "        muncitor = Lucrator(id, start, route, finish, e_depozitar, e_transportor, capacitate_m3, timp_iesire_bloc_s)\n",
    "        add_agent_pos!(human, model)\n",
    "    end\n",
    "    return model\n",
    "end"
   ]
  },
  {
   "cell_type": "code",
   "execution_count": 5,
   "id": "2257ac15-b260-424d-8b9c-26dcfa8f8e04",
   "metadata": {},
   "outputs": [
    {
     "name": "stderr",
     "output_type": "stream",
     "text": [
      "┌ Warning: AgentType is not concrete. If your agent is parametrically typed, you're probably seeing this warning because you gave `Agent` instead of `Agent{Float64}` (for example) to this function. You can also create an instance of your agent and pass it to this function. If you want to use `Union` types for mixed agent models, you can silence this warning.\n",
      "└ @ Agents /home/drakop/.julia/packages/Agents/HGute/src/core/model.jl:297\n"
     ]
    },
    {
     "ename": "LoadError",
     "evalue": "MethodError: no method matching isless(::Float64, ::MersenneTwister)\n\u001b[0mClosest candidates are:\n\u001b[0m  isless(::Union{Number, Dates.AbstractTime}, \u001b[91m::IntervalSets.ClosedInterval{T} where T\u001b[39m) at /home/drakop/.julia/packages/AxisArrays/FWWEV/src/intervals.jl:53\n\u001b[0m  isless(::AbstractFloat, \u001b[91m::Union{StatsBase.PValue, StatsBase.TestStat}\u001b[39m) at /home/drakop/.julia/packages/StatsBase/DWW4r/src/statmodels.jl:524\n\u001b[0m  isless(::AbstractFloat, \u001b[91m::ForwardDiff.Dual{Ty, V, N} where {V, N}\u001b[39m) where Ty at /home/drakop/.julia/packages/ForwardDiff/UDrkY/src/dual.jl:145\n\u001b[0m  ...",
     "output_type": "error",
     "traceback": [
      "MethodError: no method matching isless(::Float64, ::MersenneTwister)\n\u001b[0mClosest candidates are:\n\u001b[0m  isless(::Union{Number, Dates.AbstractTime}, \u001b[91m::IntervalSets.ClosedInterval{T} where T\u001b[39m) at /home/drakop/.julia/packages/AxisArrays/FWWEV/src/intervals.jl:53\n\u001b[0m  isless(::AbstractFloat, \u001b[91m::Union{StatsBase.PValue, StatsBase.TestStat}\u001b[39m) at /home/drakop/.julia/packages/StatsBase/DWW4r/src/statmodels.jl:524\n\u001b[0m  isless(::AbstractFloat, \u001b[91m::ForwardDiff.Dual{Ty, V, N} where {V, N}\u001b[39m) where Ty at /home/drakop/.julia/packages/ForwardDiff/UDrkY/src/dual.jl:145\n\u001b[0m  ...",
      "",
      "Stacktrace:",
      " [1] <(x::Float64, y::MersenneTwister)",
      "   @ Base ./operators.jl:279",
      " [2] >(x::MersenneTwister, y::Float64)",
      "   @ Base ./operators.jl:305",
      " [3] initialise(; map_path::String)",
      "   @ Main ./In[4]:5",
      " [4] initialise()",
      "   @ Main ./In[4]:2",
      " [5] top-level scope",
      "   @ In[5]:1",
      " [6] eval",
      "   @ ./boot.jl:360 [inlined]",
      " [7] include_string(mapexpr::typeof(REPL.softscope), mod::Module, code::String, filename::String)",
      "   @ Base ./loading.jl:1116"
     ]
    }
   ],
   "source": [
    "m = initialise()"
   ]
  },
  {
   "cell_type": "code",
   "execution_count": null,
   "id": "ec6c92f9-1c45-42f4-b2fe-7827032e5fa5",
   "metadata": {},
   "outputs": [],
   "source": [
    "function agent_step!(agent, model)\n",
    "    move_along_route!(agent, model, 25)\n",
    "    if is_stationary(agent, model) && rand(model.rng) < .1\n",
    "        OSM.random_route!(agent, model)\n",
    "        move_along_route!(agent, model, 25)\n",
    "    end\n",
    "    \n",
    "    if agent.infected\n",
    "        map(i -> model[i].infected = true, nearby_ids(agent, model, 50))\n",
    "    end\n",
    "end"
   ]
  },
  {
   "cell_type": "code",
   "execution_count": null,
   "id": "42acea3e-dfa5-4a23-bcb3-1d2d4930357f",
   "metadata": {},
   "outputs": [],
   "source": [
    "using  OpenStreetMapXPlot\n",
    "using Plots\n",
    "gr()"
   ]
  },
  {
   "cell_type": "code",
   "execution_count": null,
   "id": "5e37aeef-5a8e-4ed2-852a-bdab8ba3f20d",
   "metadata": {},
   "outputs": [],
   "source": [
    "ac(agent) = agent.infected ? :green : :black\n",
    "\n",
    "as(agent) = agent.infected ? 6 : 5\n",
    "\n",
    "function plotagents(model)\n",
    "    ids = model.scheduler(model)\n",
    "    colors = [ac(model[i]) for i in ids]\n",
    "    sizes = [as(model[i]) for i in ids]\n",
    "    markers = :circle\n",
    "    pos = [OSM.map_coordinates(model[i], model) for i in ids]\n",
    "    scatter!(\n",
    "        pos;\n",
    "        markercolor = colors,\n",
    "        markersize = sizes,\n",
    "        markershapes = markers,\n",
    "        label = \"\",\n",
    "        markerstrokewidth = .5,\n",
    "        markerstrokecolor = :black,\n",
    "        markeralpha = .7,\n",
    "    )\n",
    "end"
   ]
  },
  {
   "cell_type": "code",
   "execution_count": null,
   "id": "c466a4d2-4cbe-4d90-a903-1ec2ce67ecc7",
   "metadata": {},
   "outputs": [],
   "source": [
    "model = initialise()"
   ]
  },
  {
   "cell_type": "code",
   "execution_count": null,
   "id": "6f09564c-feed-4511-8219-eeeef43d46dd",
   "metadata": {},
   "outputs": [],
   "source": [
    "frames = @animate for i in 0:200\n",
    "    i > 0 && step!(model, agent_step!, 1)\n",
    "    plotmap(model.space.m)\n",
    "    plotagents(model)\n",
    "end\n",
    "gif(frames, \"outbreak.gif\", fps = 15)"
   ]
  },
  {
   "cell_type": "code",
   "execution_count": null,
   "id": "2400332e-bcfa-466d-96a3-92ed8bc56ee3",
   "metadata": {},
   "outputs": [],
   "source": []
  }
 ],
 "metadata": {
  "kernelspec": {
   "display_name": "Julia 1.6.2",
   "language": "julia",
   "name": "julia-1.6"
  },
  "language_info": {
   "file_extension": ".jl",
   "mimetype": "application/julia",
   "name": "julia",
   "version": "1.6.2"
  }
 },
 "nbformat": 4,
 "nbformat_minor": 5
}
