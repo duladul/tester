{
 "cells": [
  {
   "cell_type": "code",
   "execution_count": 1,
   "id": "02861fc8",
   "metadata": {},
   "outputs": [],
   "source": [
    "using Agents, Random"
   ]
  },
  {
   "cell_type": "code",
   "execution_count": 2,
   "id": "edde0b6b",
   "metadata": {},
   "outputs": [],
   "source": [
    "@agent Depozitar OSMAgent begin\n",
    "    capacitate_m3::Float32\n",
    "    greutate_max_g::Float32\n",
    "    avg_timp_contact_s::Float32\n",
    "    dev_timp_contact_s::Float32\n",
    "    timpi_contact_s::Vector{Float32}\n",
    "    probabilitate_livrare_corecta::Float32\n",
    "    comision_prc::Float32\n",
    "end"
   ]
  },
  {
   "cell_type": "code",
   "execution_count": 3,
   "id": "b52b3d4b",
   "metadata": {},
   "outputs": [],
   "source": [
    "@agent Transportor OSMAgent begin\n",
    "    capacitate_m3::Float32\n",
    "    distanta_max_km::Float32\n",
    "    tol_distanta_max::Float32\n",
    "    istoric_distante::Vector{Float32}\n",
    "    avg_timp_contact_s::Float32\n",
    "    dev_timp_contact_s::Float32\n",
    "    dev_timp_prezis_sosire::Float32\n",
    "    timpi_prezisi_sosire::Vector{Float32}\n",
    "    timpi_contact_s::Vector{Float32}\n",
    "    probabilitate_livrare_corecta::Float32\n",
    "    comision_prc::Float32\n",
    "end"
   ]
  },
  {
   "cell_type": "code",
   "execution_count": 4,
   "id": "377779d3",
   "metadata": {},
   "outputs": [
    {
     "data": {
      "text/plain": [
       "initialise (generic function with 1 method)"
      ]
     },
     "execution_count": 4,
     "metadata": {},
     "output_type": "execute_result"
    }
   ],
   "source": [
    "function initialise(; map_path = \"map.osm\")\n",
    "    model = ABM(Union{Transportor, Depozitar}, OpenStreetMapSpace(map_path))\n",
    "    for id in 1:100\n",
    "        start = random_position(model)\n",
    "        if model.rng > .8\n",
    "            finish = start\n",
    "            e_depozitar = true\n",
    "            e_transportor = false\n",
    "            capacitate_m3 = rand(Exponential(20))\n",
    "            timp_iesire_bloc_s = rand(Exponential(100))\n",
    "        else\n",
    "            finish = random_position(model)\n",
    "            e_depozitar = false\n",
    "            e_transportor = true\n",
    "            capacitate_m3 = rand(Exponential(2))\n",
    "            timp_iesire_bloc_s = 0.\n",
    "        end\n",
    "        route = OSM.plan_route(start, finish, model)\n",
    "        muncitor = Lucrator(id, start, route, finish, e_depozitar, e_transportor, capacitate_m3, timp_iesire_bloc_s)\n",
    "        add_agent_pos!(human, model)\n",
    "    end\n",
    "    return model\n",
    "end"
   ]
  },
  {
   "cell_type": "code",
   "execution_count": 5,
   "id": "b991f152",
   "metadata": {},
   "outputs": [
    {
     "name": "stderr",
     "output_type": "stream",
     "text": [
      "┌ Warning: AgentType is not concrete. If your agent is parametrically typed, you're probably seeing this warning because you gave `Agent` instead of `Agent{Float64}` (for example) to this function. You can also create an instance of your agent and pass it to this function. If you want to use `Union` types for mixed agent models, you can silence this warning.\n",
      "└ @ Agents /home/drakop/.julia/packages/Agents/h9Ls1/src/core/model.jl:297\n"
     ]
    },
    {
     "ename": "LoadError",
     "evalue": "MethodError: no method matching isless(::Float64, ::TaskLocalRNG)\n\u001b[0mClosest candidates are:\n\u001b[0m  isless(::T, \u001b[91m::T\u001b[39m) where T<:Union{Float16, Float32, Float64} at ~/JuliaLang/share/julia/base/float.jl:460\n\u001b[0m  isless(::AbstractFloat, \u001b[91m::AbstractFloat\u001b[39m) at ~/JuliaLang/share/julia/base/operators.jl:184\n\u001b[0m  isless(::Real, \u001b[91m::AbstractFloat\u001b[39m) at ~/JuliaLang/share/julia/base/operators.jl:185\n\u001b[0m  ...",
     "output_type": "error",
     "traceback": [
      "MethodError: no method matching isless(::Float64, ::TaskLocalRNG)\n\u001b[0mClosest candidates are:\n\u001b[0m  isless(::T, \u001b[91m::T\u001b[39m) where T<:Union{Float16, Float32, Float64} at ~/JuliaLang/share/julia/base/float.jl:460\n\u001b[0m  isless(::AbstractFloat, \u001b[91m::AbstractFloat\u001b[39m) at ~/JuliaLang/share/julia/base/operators.jl:184\n\u001b[0m  isless(::Real, \u001b[91m::AbstractFloat\u001b[39m) at ~/JuliaLang/share/julia/base/operators.jl:185\n\u001b[0m  ...",
      "",
      "Stacktrace:",
      " [1] <(x::Float64, y::TaskLocalRNG)",
      "   @ Base ./operators.jl:352",
      " [2] >(x::TaskLocalRNG, y::Float64)",
      "   @ Base ./operators.jl:378",
      " [3] initialise(; map_path::String)",
      "   @ Main ./In[4]:5",
      " [4] initialise()",
      "   @ Main ./In[4]:2",
      " [5] top-level scope",
      "   @ In[5]:1",
      " [6] eval",
      "   @ ./boot.jl:373 [inlined]",
      " [7] include_string(mapexpr::typeof(REPL.softscope), mod::Module, code::String, filename::String)",
      "   @ Base ./loading.jl:1196"
     ]
    }
   ],
   "source": [
    "m = initialise()"
   ]
  },
  {
   "cell_type": "code",
   "execution_count": 6,
   "id": "7937300e",
   "metadata": {},
   "outputs": [
    {
     "data": {
      "text/plain": [
       "agent_step! (generic function with 1 method)"
      ]
     },
     "execution_count": 6,
     "metadata": {},
     "output_type": "execute_result"
    }
   ],
   "source": [
    "function agent_step!(agent, model)\n",
    "    move_along_route!(agent, model, 25)\n",
    "    if is_stationary(agent, model) && rand(model.rng) < .1\n",
    "        OSM.random_route!(agent, model)\n",
    "        move_along_route!(agent, model, 25)\n",
    "    end\n",
    "    \n",
    "    if agent.infected\n",
    "        map(i -> model[i].infected = true, nearby_ids(agent, model, 50))\n",
    "    end\n",
    "end"
   ]
  },
  {
   "cell_type": "code",
   "execution_count": 7,
   "id": "275c9da0",
   "metadata": {},
   "outputs": [
    {
     "data": {
      "text/plain": [
       "Plots.GRBackend()"
      ]
     },
     "execution_count": 7,
     "metadata": {},
     "output_type": "execute_result"
    }
   ],
   "source": [
    "using  OpenStreetMapXPlot\n",
    "using Plots\n",
    "gr()"
   ]
  },
  {
   "cell_type": "code",
   "execution_count": 8,
   "id": "33a413ae",
   "metadata": {},
   "outputs": [
    {
     "data": {
      "text/plain": [
       "plotagents (generic function with 1 method)"
      ]
     },
     "execution_count": 8,
     "metadata": {},
     "output_type": "execute_result"
    }
   ],
   "source": [
    "ac(agent) = agent.infected ? :green : :black\n",
    "\n",
    "as(agent) = agent.infected ? 6 : 5\n",
    "\n",
    "function plotagents(model)\n",
    "    ids = model.scheduler(model)\n",
    "    colors = [ac(model[i]) for i in ids]\n",
    "    sizes = [as(model[i]) for i in ids]\n",
    "    markers = :circle\n",
    "    pos = [OSM.map_coordinates(model[i], model) for i in ids]\n",
    "    scatter!(\n",
    "        pos;\n",
    "        markercolor = colors,\n",
    "        markersize = sizes,\n",
    "        markershapes = markers,\n",
    "        label = \"\",\n",
    "        markerstrokewidth = .5,\n",
    "        markerstrokecolor = :black,\n",
    "        markeralpha = .7,\n",
    "    )\n",
    "end"
   ]
  },
  {
   "cell_type": "code",
   "execution_count": 9,
   "id": "35df8cee",
   "metadata": {},
   "outputs": [
    {
     "name": "stderr",
     "output_type": "stream",
     "text": [
      "┌ Warning: AgentType is not concrete. If your agent is parametrically typed, you're probably seeing this warning because you gave `Agent` instead of `Agent{Float64}` (for example) to this function. You can also create an instance of your agent and pass it to this function. If you want to use `Union` types for mixed agent models, you can silence this warning.\n",
      "└ @ Agents /home/drakop/.julia/packages/Agents/h9Ls1/src/core/model.jl:297\n"
     ]
    },
    {
     "ename": "LoadError",
     "evalue": "MethodError: no method matching isless(::Float64, ::TaskLocalRNG)\n\u001b[0mClosest candidates are:\n\u001b[0m  isless(::T, \u001b[91m::T\u001b[39m) where T<:Union{Float16, Float32, Float64} at ~/JuliaLang/share/julia/base/float.jl:460\n\u001b[0m  isless(::AbstractFloat, \u001b[91m::AbstractFloat\u001b[39m) at ~/JuliaLang/share/julia/base/operators.jl:184\n\u001b[0m  isless(::Real, \u001b[91m::AbstractFloat\u001b[39m) at ~/JuliaLang/share/julia/base/operators.jl:185\n\u001b[0m  ...",
     "output_type": "error",
     "traceback": [
      "MethodError: no method matching isless(::Float64, ::TaskLocalRNG)\n\u001b[0mClosest candidates are:\n\u001b[0m  isless(::T, \u001b[91m::T\u001b[39m) where T<:Union{Float16, Float32, Float64} at ~/JuliaLang/share/julia/base/float.jl:460\n\u001b[0m  isless(::AbstractFloat, \u001b[91m::AbstractFloat\u001b[39m) at ~/JuliaLang/share/julia/base/operators.jl:184\n\u001b[0m  isless(::Real, \u001b[91m::AbstractFloat\u001b[39m) at ~/JuliaLang/share/julia/base/operators.jl:185\n\u001b[0m  ...",
      "",
      "Stacktrace:",
      " [1] <(x::Float64, y::TaskLocalRNG)",
      "   @ Base ./operators.jl:352",
      " [2] >(x::TaskLocalRNG, y::Float64)",
      "   @ Base ./operators.jl:378",
      " [3] initialise(; map_path::String)",
      "   @ Main ./In[4]:5",
      " [4] initialise()",
      "   @ Main ./In[4]:2",
      " [5] top-level scope",
      "   @ In[9]:1",
      " [6] eval",
      "   @ ./boot.jl:373 [inlined]",
      " [7] include_string(mapexpr::typeof(REPL.softscope), mod::Module, code::String, filename::String)",
      "   @ Base ./loading.jl:1196"
     ]
    }
   ],
   "source": [
    "model = initialise()"
   ]
  },
  {
   "cell_type": "code",
   "execution_count": 10,
   "id": "82fa47cd",
   "metadata": {},
   "outputs": [
    {
     "ename": "LoadError",
     "evalue": "UndefVarError: model not defined",
     "output_type": "error",
     "traceback": [
      "UndefVarError: model not defined",
      "",
      "Stacktrace:",
      " [1] macro expansion",
      "   @ ./In[10]:3 [inlined]",
      " [2] top-level scope",
      "   @ ~/.julia/packages/Plots/Zuo5g/src/animation.jl:197",
      " [3] eval",
      "   @ ./boot.jl:373 [inlined]",
      " [4] include_string(mapexpr::typeof(REPL.softscope), mod::Module, code::String, filename::String)",
      "   @ Base ./loading.jl:1196"
     ]
    }
   ],
   "source": [
    "frames = @animate for i in 0:200\n",
    "    i > 0 && step!(model, agent_step!, 1)\n",
    "    plotmap(model.space.m)\n",
    "    plotagents(model)\n",
    "end\n",
    "gif(frames, \"outbreak.gif\", fps = 15)"
   ]
  },
  {
   "cell_type": "code",
   "execution_count": null,
   "id": "e75beb60",
   "metadata": {},
   "outputs": [],
   "source": []
  }
 ],
 "metadata": {
  "kernelspec": {
   "display_name": "Julia 1.7.0",
   "language": "julia",
   "name": "julia-1.7"
  },
  "language_info": {
   "file_extension": ".jl",
   "mimetype": "application/julia",
   "name": "julia",
   "version": "1.7.0"
  }
 },
 "nbformat": 4,
 "nbformat_minor": 5
}
