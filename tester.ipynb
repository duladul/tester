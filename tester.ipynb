{
 "cells": [
  {
   "cell_type": "code",
   "execution_count": 1,
   "id": "3be5b558-f77d-438b-be01-9aea8db5acba",
   "metadata": {
    "gradient": {
     "editing": false,
     "execution_count": 3,
     "id": "3be5b558-f77d-438b-be01-9aea8db5acba",
     "kernelId": "c642d690-7aa8-4222-aeda-0f570c577bf1"
    }
   },
   "outputs": [
    {
     "data": {
      "text/plain": [
       "Plots.GRBackend()"
      ]
     },
     "execution_count": 1,
     "metadata": {},
     "output_type": "execute_result"
    }
   ],
   "source": [
    "using Agents, Random, Distributions, InteractiveDynamics, Clustering, OpenStreetMapXPlot, Plots, Distances;\n",
    "gr()"
   ]
  },
  {
   "cell_type": "code",
   "execution_count": 2,
   "id": "ddcd09af-b2ee-436b-b463-e43835750704",
   "metadata": {
    "gradient": {
     "editing": false,
     "execution_count": 3,
     "id": "ddcd09af-b2ee-436b-b463-e43835750704",
     "kernelId": "c642d690-7aa8-4222-aeda-0f570c577bf1"
    }
   },
   "outputs": [],
   "source": [
    "@agent Transportor OSMAgent begin\n",
    "    capacitate_m3::Float16\n",
    "    capacitate_consumata_m3::Float16\n",
    "    prob_livrare_corecta::Float16\n",
    "    timpi_transfer_pachet_s::Vector{Float16}\n",
    "    coada_colete::Vector{Int}\n",
    "end"
   ]
  },
  {
   "cell_type": "code",
   "execution_count": 3,
   "id": "e2201c47-8852-47d8-9bf8-16a0935b7f0b",
   "metadata": {
    "gradient": {
     "editing": false,
     "execution_count": 4,
     "id": "e2201c47-8852-47d8-9bf8-16a0935b7f0b",
     "kernelId": "c642d690-7aa8-4222-aeda-0f570c577bf1"
    }
   },
   "outputs": [],
   "source": [
    "@agent Depozitar OSMAgent begin\n",
    "    capacitate_m3::Float16\n",
    "    capacitate_consumata_m3::Float16\n",
    "    prob_livrare_corecta::Float16\n",
    "    timpi_transfer_pachet_s::Vector{Float16}\n",
    "    coada_transportori::Vector{Int}\n",
    "end"
   ]
  },
  {
   "cell_type": "code",
   "execution_count": 4,
   "id": "a20b4554-63e7-4f11-9d72-1f3cc27a6c3b",
   "metadata": {
    "gradient": {
     "editing": false,
     "execution_count": 4,
     "id": "a20b4554-63e7-4f11-9d72-1f3cc27a6c3b",
     "kernelId": "c642d690-7aa8-4222-aeda-0f570c577bf1"
    }
   },
   "outputs": [],
   "source": [
    "@agent Colet OSMAgent begin\n",
    "    volum_m3::Float16\n",
    "    valoare_ron::Float16\n",
    "end"
   ]
  },
  {
   "cell_type": "code",
   "execution_count": 5,
   "id": "4d37266f-6809-4c02-b097-43607c129837",
   "metadata": {},
   "outputs": [
    {
     "name": "stderr",
     "output_type": "stream",
     "text": [
      "┌ Warning: AgentType is not concrete. If your agent is parametrically typed, you're probably seeing this warning because you gave `Agent` instead of `Agent{Float64}` (for example) to this function. You can also create an instance of your agent and pass it to this function. If you want to use `Union` types for mixed agent models, you can silence this warning.\n",
      "└ @ Agents /home/drakop/.julia/packages/Agents/HGute/src/core/model.jl:297\n"
     ]
    },
    {
     "data": {
      "text/plain": [
       "AgentBasedModel with 0 agents of type Union{Colet, Depozitar, Transportor}\n",
       " space: OpenStreetMapSpace with 484 roadways and 775 intersections\n",
       " scheduler: fastest"
      ]
     },
     "execution_count": 5,
     "metadata": {},
     "output_type": "execute_result"
    }
   ],
   "source": [
    "m = ABM(Union{Transportor, Depozitar, Colet}, OpenStreetMapSpace(\"map.osm\"))"
   ]
  },
  {
   "cell_type": "code",
   "execution_count": 11,
   "id": "c90bd89e-1d2b-4cfe-ac1c-bb0ea6fcbfe2",
   "metadata": {
    "gradient": {
     "editing": false,
     "execution_count": 22,
     "id": "c90bd89e-1d2b-4cfe-ac1c-bb0ea6fcbfe2",
     "kernelId": "c642d690-7aa8-4222-aeda-0f570c577bf1"
    }
   },
   "outputs": [
    {
     "data": {
      "text/plain": [
       "initialise (generic function with 1 method)"
      ]
     },
     "execution_count": 11,
     "metadata": {},
     "output_type": "execute_result"
    }
   ],
   "source": [
    "function initialise(; map_path = \"map.osm\")\n",
    "    properties = Dict{String, Dict{UInt32, Vector{Float64}}}()\n",
    "    properties[\"centroids\"] = Dict{UInt32, Vector{Float64}}()\n",
    "    model = ABM(Union{Transportor, Depozitar, Colet}, OpenStreetMapSpace(map_path); properties)\n",
    "    d_prob_livrare_corecta = truncated(Normal(.8, 2), .4, 1.)\n",
    "    d_capacitate = truncated(Normal(20, 10), 5, 100)\n",
    "    d_timpi_transfer = truncated(Exponential(60), 5, 60*15)\n",
    "    puncte_pornire = Vector{Tuple{Int,Int,Float64}}()\n",
    "    # Deppzitari\n",
    "    for id in 1:10\n",
    "        adresa = OSM.random_road_position(model)\n",
    "        push!(puncte_pornire, adresa)\n",
    "        ruta = OSM.plan_route(adresa, adresa, model)\n",
    "        capacitate = rand(d_capacitate)\n",
    "        prob_livrare = rand(d_prob_livrare_corecta)\n",
    "        timp_transfer = rand(d_timpi_transfer, 1)\n",
    "        depozitar = Depozitar(id, adresa, ruta, adresa, capacitate, 0., prob_livrare, timp_transfer, [])\n",
    "        add_agent_pos!(depozitar, model)\n",
    "    end\n",
    "    # Colete\n",
    "    d_volum = truncated(Normal(.1, .1), .01, 2)\n",
    "    d_valoare = truncated(Normal(50, 50), 5, 10000)\n",
    "    destinatii = Vector{Tuple{Float64,Float64}}()\n",
    "    for id in 100:300\n",
    "        oid = sample(1:10)\n",
    "        inceput = puncte_pornire[oid]\n",
    "        sfarsit = OSM.random_road_position(model)\n",
    "        push!(destinatii, OSM.latlon(sfarsit, model))\n",
    "        ruta = OSM.plan_route(inceput, sfarsit, model)\n",
    "        volum = rand(d_volum)\n",
    "        model[oid].capacitate_consumata_m3 += volum\n",
    "        valoare = rand(d_valoare)\n",
    "        colet = Colet(id, inceput, ruta, sfarsit, volum, valoare)\n",
    "        add_agent_pos!(colet, model)\n",
    "    end\n",
    "    \n",
    "    # Transportori\n",
    "    d_capacitate = truncated(Normal(5, 2), 1, 20)\n",
    "    for id in 11:30\n",
    "        inceput = OSM.random_road_position(model)\n",
    "        sfarsit = OSM.random_road_position(model)\n",
    "        ruta = OSM.plan_route(inceput, sfarsit, model)\n",
    "        capacitate = rand(d_capacitate)\n",
    "        prob_livrare = rand(d_prob_livrare_corecta)\n",
    "        timp_transfer = rand(d_timpi_transfer, 1)\n",
    "        transportor = Transportor(id, inceput, ruta, sfarsit, capacitate, 0., prob_livrare, timp_transfer, [])\n",
    "        add_agent_pos!(transportor, model)\n",
    "    end\n",
    "    return model, destinatii\n",
    "end"
   ]
  },
  {
   "cell_type": "code",
   "execution_count": 12,
   "id": "1aa1d89b-2a38-4bed-9f13-4f8e3446f9d7",
   "metadata": {
    "gradient": {
     "editing": false,
     "execution_count": 23,
     "id": "1aa1d89b-2a38-4bed-9f13-4f8e3446f9d7",
     "kernelId": "c642d690-7aa8-4222-aeda-0f570c577bf1"
    }
   },
   "outputs": [
    {
     "name": "stderr",
     "output_type": "stream",
     "text": [
      "┌ Warning: AgentType is not concrete. If your agent is parametrically typed, you're probably seeing this warning because you gave `Agent` instead of `Agent{Float64}` (for example) to this function. You can also create an instance of your agent and pass it to this function. If you want to use `Union` types for mixed agent models, you can silence this warning.\n",
      "└ @ Agents /home/drakop/.julia/packages/Agents/HGute/src/core/model.jl:297\n"
     ]
    },
    {
     "data": {
      "text/plain": [
       "(AgentBasedModel with 231 agents of type Union{Colet, Depozitar, Transportor}\n",
       " space: OpenStreetMapSpace with 484 roadways and 775 intersections\n",
       " scheduler: fastest\n",
       " properties: centroids, [(44.55211591246358, 26.097749948695327), (44.556348650296336, 26.069295435164953), (44.55779116281029, 26.06935443615127), (44.542602144775735, 26.06876487112358), (44.549909458942004, 26.09889568675962), (44.559679696143235, 26.0845731810414), (44.53941620907547, 26.079083380882732), (44.53711892155705, 26.078192747410665), (44.5348711131473, 26.075658296954497), (44.55803925319458, 26.082103714262423)  …  (44.55051907768229, 26.069038195117024), (44.55797351415317, 26.09587164571626), (44.54637970750051, 26.086236602225775), (44.53461707072624, 26.065017288122686), (44.559102711288745, 26.07263678832222), (44.5365545924863, 26.075220031449568), (44.53547528427256, 26.066758567106874), (44.53595912492597, 26.101541148186538), (44.558825328658216, 26.06940323082258), (44.54073402007828, 26.068710980086358)])"
      ]
     },
     "execution_count": 12,
     "metadata": {},
     "output_type": "execute_result"
    }
   ],
   "source": [
    "m, d = initialise()"
   ]
  },
  {
   "cell_type": "code",
   "execution_count": 13,
   "id": "6348ab40-8027-4584-9fa8-39e9a94d4f99",
   "metadata": {},
   "outputs": [
    {
     "data": {
      "text/plain": [
       "2×201 reshape(reinterpret(Float64, ::Vector{Tuple{Float64, Float64}}), 2, 201) with eltype Float64:\n",
       " 44.5521  44.5563  44.5578  44.5426  …  44.5355  44.536   44.5588  44.5407\n",
       " 26.0977  26.0693  26.0694  26.0688     26.0668  26.1015  26.0694  26.0687"
      ]
     },
     "execution_count": 13,
     "metadata": {},
     "output_type": "execute_result"
    }
   ],
   "source": [
    "d = reshape(reinterpret(Float64, d), (2,:))"
   ]
  },
  {
   "cell_type": "code",
   "execution_count": 14,
   "id": "e6628a29-4918-4be1-95c2-25a43c76f5fa",
   "metadata": {},
   "outputs": [],
   "source": [
    "R = pairwise(Euclidean(), d, d, dims=2)\n",
    "res = kmedoids(R, 10)\n",
    "centroid_mapping = Dict{Int, Vector{Int}}()\n",
    "for i in res.medoids\n",
    "    centroid_mapping[i] = Vector{Int}()\n",
    "end\n",
    "for i in 1:size(d)[2]\n",
    "    push!(centroid_mapping[res.medoids[res.assignments[i]]], i)\n",
    "end"
   ]
  },
  {
   "cell_type": "code",
   "execution_count": 15,
   "id": "711a28de-05eb-4382-aff4-42c172cc873b",
   "metadata": {},
   "outputs": [
    {
     "data": {
      "text/plain": [
       "Dict{Int64, Vector{Int64}} with 10 entries:\n",
       "  34  => [1, 5, 16, 23, 29, 33, 34, 37, 45, 64  …  137, 149, 160, 162, 170, 180…\n",
       "  150 => [4, 20, 41, 48, 54, 74, 82, 85, 126, 141, 145, 148, 150, 155, 163, 167…\n",
       "  157 => [17, 26, 65, 93, 96, 103, 108, 114, 115, 122, 153, 157, 164, 166, 168,…\n",
       "  21  => [21, 43, 68, 70, 71, 81, 117, 118, 120, 123, 138, 165, 171, 173, 176, …\n",
       "  56  => [6, 10, 11, 12, 13, 14, 27, 28, 36, 38  …  95, 106, 124, 125, 132, 134…\n",
       "  73  => [2, 3, 40, 44, 59, 61, 73, 86, 91, 97, 129, 135, 136, 144, 154, 159, 1…\n",
       "  75  => [18, 22, 25, 32, 46, 47, 50, 55, 75, 83, 88, 92, 112, 133, 139, 178, 1…\n",
       "  116 => [19, 30, 60, 72, 79, 80, 116, 140, 151, 181, 192]\n",
       "  111 => [7, 8, 9, 31, 35, 42, 62, 76, 98, 100  …  107, 109, 111, 119, 147, 156…\n",
       "  128 => [15, 24, 49, 51, 53, 57, 78, 89, 102, 104, 110, 113, 127, 128, 130, 14…"
      ]
     },
     "execution_count": 15,
     "metadata": {},
     "output_type": "execute_result"
    }
   ],
   "source": [
    "centroid_mapping"
   ]
  },
  {
   "cell_type": "markdown",
   "id": "314219ca-b739-42f7-b2ea-29a24c8fafef",
   "metadata": {},
   "source": [
    "#### Politici:\n",
    "\n",
    " * Mergi la cel mai valoros pachet\n",
    " * Mergi la cel mai apropiat depozitar si ia cat poti in functie de valoare\n",
    " * Pastreaza directia de mers si ia pachete de la toti cei de pe ruta care au pachete ce merg inspre destinatie\n",
    " * Mergi la cel mai apropiat depozitar si ia cate pachhete poti pentru a le livra la cel mai apropiat centru k-means (k=nr transportori)"
   ]
  },
  {
   "cell_type": "code",
   "execution_count": 7,
   "id": "88441503-720c-4a44-b999-44a1cb3f88a3",
   "metadata": {},
   "outputs": [
    {
     "data": {
      "text/plain": [
       "agent_step! (generic function with 1 method)"
      ]
     },
     "execution_count": 7,
     "metadata": {},
     "output_type": "execute_result"
    }
   ],
   "source": [
    "function agent_step!(agent, model)\n",
    "    # Each agent will progress 25 meters along their route\n",
    "    if typeof(agent) == Depozitar\n",
    "        d_distanta = truncated(Normal(15, 5), 5, 30)\n",
    "        move_along_route!(agent, model, rand(d_distanta))\n",
    "    end\n",
    "\n",
    "    if is_stationary(agent, model) && rand(model.rng) < 0.1\n",
    "        # When stationary, give the agent a 10% chance of going somewhere else\n",
    "        OSM.random_route!(agent, model)\n",
    "        # Start on new route\n",
    "        move_along_route!(agent, model, 25)\n",
    "    end\n",
    "\n",
    "    if agent.infected\n",
    "        # Agents will be infected if they get within 50 meters of a zombie.\n",
    "        map(i -> model[i].infected = true, nearby_ids(agent, model, 50))\n",
    "    end\n",
    "end\n"
   ]
  },
  {
   "cell_type": "code",
   "execution_count": 14,
   "id": "6a5f23dd-5d7e-4d0e-aa4e-f2035d11e4fe",
   "metadata": {
    "gradient": {
     "editing": false,
     "execution_count": 27,
     "id": "6a5f23dd-5d7e-4d0e-aa4e-f2035d11e4fe",
     "kernelId": "c642d690-7aa8-4222-aeda-0f570c577bf1"
    }
   },
   "outputs": [
    {
     "ename": "LoadError",
     "evalue": "MethodError: no method matching paramscan(::AgentBasedModel{Agents.OSM.OpenStreetMapSpace, Union{Colet, Depozitar, Transportor}, typeof(Agents.Schedulers.fastest), Nothing, MersenneTwister})\n\u001b[0mClosest candidates are:\n\u001b[0m  paramscan(\u001b[91m::Dict\u001b[39m, \u001b[91m::Any\u001b[39m; include_constants, parallel, agent_step!, model_step!, n, kwargs...) at /home/drakop/.julia/packages/Agents/HGute/src/simulations/paramscan.jl:71",
     "output_type": "error",
     "traceback": [
      "MethodError: no method matching paramscan(::AgentBasedModel{Agents.OSM.OpenStreetMapSpace, Union{Colet, Depozitar, Transportor}, typeof(Agents.Schedulers.fastest), Nothing, MersenneTwister})\n\u001b[0mClosest candidates are:\n\u001b[0m  paramscan(\u001b[91m::Dict\u001b[39m, \u001b[91m::Any\u001b[39m; include_constants, parallel, agent_step!, model_step!, n, kwargs...) at /home/drakop/.julia/packages/Agents/HGute/src/simulations/paramscan.jl:71",
      "",
      "Stacktrace:",
      " [1] top-level scope",
      "   @ In[14]:1",
      " [2] eval",
      "   @ ./boot.jl:360 [inlined]",
      " [3] include_string(mapexpr::typeof(REPL.softscope), mod::Module, code::String, filename::String)",
      "   @ Base ./loading.jl:1116"
     ]
    }
   ],
   "source": [
    "adf, mdf = paramscan(m)"
   ]
  },
  {
   "cell_type": "code",
   "execution_count": null,
   "id": "8d014e4c-0cd6-4619-bac4-09066f3f645e",
   "metadata": {
    "gradient": {
     "execution_count": 14,
     "id": "8d014e4c-0cd6-4619-bac4-09066f3f645e",
     "kernelId": "c642d690-7aa8-4222-aeda-0f570c577bf1"
    }
   },
   "outputs": [],
   "source": [
    "function plotagents(model)\n",
    "    ids = model.scheduler(model)\n",
    "    markers = :circle\n",
    "    pos = [OSM.map_coordinates(model[i], model) for i in ids]\n",
    "\n",
    "    scatter!(\n",
    "        pos;\n",
    "        markershapes = markers,\n",
    "        label = \"\",\n",
    "        markerstrokewidth = 0.5,\n",
    "        markerstrokecolor = :black,\n",
    "        markeralpha = 0.7,\n",
    "    )\n",
    "end"
   ]
  },
  {
   "cell_type": "code",
   "execution_count": null,
   "id": "234d5120-ac4b-43ed-9aad-085dc35e4bf7",
   "metadata": {
    "gradient": {
     "execution_count": 15,
     "id": "234d5120-ac4b-43ed-9aad-085dc35e4bf7",
     "kernelId": "c642d690-7aa8-4222-aeda-0f570c577bf1"
    }
   },
   "outputs": [],
   "source": [
    "plotmap(m.space.m)\n",
    "plotagents(m)"
   ]
  },
  {
   "cell_type": "code",
   "execution_count": null,
   "id": "52b9176b-5edb-4137-890e-0b4dd12854a7",
   "metadata": {
    "gradient": {
     "id": "52b9176b-5edb-4137-890e-0b4dd12854a7",
     "kernelId": "c642d690-7aa8-4222-aeda-0f570c577bf1"
    }
   },
   "outputs": [],
   "source": []
  }
 ],
 "metadata": {
  "kernelspec": {
   "display_name": "Julia 1.6.2",
   "language": "julia",
   "name": "julia-1.6"
  },
  "language_info": {
   "file_extension": ".jl",
   "mimetype": "application/julia",
   "name": "julia",
   "version": "1.6.4"
  }
 },
 "nbformat": 4,
 "nbformat_minor": 5
}
