{
 "cells": [
  {
   "cell_type": "code",
   "execution_count": null,
   "id": "3be5b558-f77d-438b-be01-9aea8db5acba",
   "metadata": {
    "gradient": {
     "editing": false,
     "execution_count": 3,
     "id": "3be5b558-f77d-438b-be01-9aea8db5acba",
     "kernelId": "c642d690-7aa8-4222-aeda-0f570c577bf1"
    }
   },
   "outputs": [],
   "source": [
    "using Agents, Random, Distributions, InteractiveDynamics;\n",
    "using OpenStreetMapXPlot\n",
    "using Plots\n",
    "gr()"
   ]
  },
  {
   "cell_type": "code",
   "execution_count": null,
   "id": "ddcd09af-b2ee-436b-b463-e43835750704",
   "metadata": {
    "gradient": {
     "editing": false,
     "execution_count": 3,
     "id": "ddcd09af-b2ee-436b-b463-e43835750704",
     "kernelId": "c642d690-7aa8-4222-aeda-0f570c577bf1"
    }
   },
   "outputs": [],
   "source": [
    "@agent Transportor OSMAgent begin\n",
    "    capacitate_m3::Float16\n",
    "    capacitate_consumata_m3::Float16\n",
    "    prob_livrare_corecta::Float16\n",
    "    timpi_transfer_pachet_s::Vector{Float16}\n",
    "end"
   ]
  },
  {
   "cell_type": "code",
   "execution_count": null,
   "id": "e2201c47-8852-47d8-9bf8-16a0935b7f0b",
   "metadata": {
    "gradient": {
     "editing": false,
     "execution_count": 4,
     "id": "e2201c47-8852-47d8-9bf8-16a0935b7f0b",
     "kernelId": "c642d690-7aa8-4222-aeda-0f570c577bf1"
    }
   },
   "outputs": [],
   "source": [
    "@agent Depozitar OSMAgent begin\n",
    "    capacitate_m3::Float16\n",
    "    capacitate_consumata_m3::Float16\n",
    "    prob_livrare_corecta::Float16\n",
    "    timpi_transfer_pachet_s::Vector{Float16}\n",
    "end"
   ]
  },
  {
   "cell_type": "code",
   "execution_count": null,
   "id": "a20b4554-63e7-4f11-9d72-1f3cc27a6c3b",
   "metadata": {
    "gradient": {
     "editing": false,
     "execution_count": 4,
     "id": "a20b4554-63e7-4f11-9d72-1f3cc27a6c3b",
     "kernelId": "c642d690-7aa8-4222-aeda-0f570c577bf1"
    }
   },
   "outputs": [],
   "source": [
    "@agent Colet OSMAgent begin\n",
    "    volum_m3::Float16\n",
    "    valoare_ron::Float16\n",
    "end"
   ]
  },
  {
   "cell_type": "code",
   "execution_count": null,
   "id": "a197a7c8-6b6f-411e-b6bc-d38a0f8bbdae",
   "metadata": {},
   "outputs": [],
   "source": [
    "Array{Tuple{Int,Int,Float64}}()"
   ]
  },
  {
   "cell_type": "code",
   "execution_count": null,
   "id": "c90bd89e-1d2b-4cfe-ac1c-bb0ea6fcbfe2",
   "metadata": {
    "gradient": {
     "editing": false,
     "execution_count": 22,
     "id": "c90bd89e-1d2b-4cfe-ac1c-bb0ea6fcbfe2",
     "kernelId": "c642d690-7aa8-4222-aeda-0f570c577bf1"
    }
   },
   "outputs": [],
   "source": [
    "function initialise(; map_path = \"map.osm\")\n",
    "    model = ABM(Union{Transportor, Depozitar, Colet}, OpenStreetMapSpace(map_path))\n",
    "    d_prob_livrare_corecta = truncated(Normal(.8, 2), .4, 1.)\n",
    "    d_capacitate = truncated(Normal(20, 10), 5, 100)\n",
    "    d_timpi_transfer = truncated(Exponential(60), 5, 60*15)\n",
    "    puncte_pornire = Array{Tuple{Int,Int,Float64}}()\n",
    "    for id in 1:10\n",
    "        println(id)\n",
    "        adresa = random_position(model)\n",
    "        append!(puncte_pornire, adresa)\n",
    "        ruta = OSM.plan_route(adresa, adresa, model)\n",
    "        capacitate = rand(d_capacitate)\n",
    "        prob_livrare = rand(d_prob_livrare_corecta)\n",
    "        timp_transfer = rand(d_timpi_transfer, 1)\n",
    "        depozitar = Depozitar(id, adresa, ruta, adresa, capacitate, 0., prob_livrare, timp_transfer)\n",
    "        add_agent_pos!(depozitar, model)\n",
    "    end\n",
    "    # Colete\n",
    "    d_volum = truncated(Normal(.1, .1), .01, 2)\n",
    "    d_valoare = truncated(Normal(50, 50), 5, 10000)\n",
    "    for id in 100:200\n",
    "        inceput = sample(puncte_pornire)\n",
    "        sfarsit = random_position(model)\n",
    "        ruta = OSM.plan_route(inceput, sfarsit, model)\n",
    "        volum = rand(d_volum)\n",
    "        valoare = rand(d_valoare)\n",
    "        colet = Colet(id, inceput, ruta, sfarsit, volum, valoare)\n",
    "        add_agent_pos!(colet, model)\n",
    "    end\n",
    "    # Transportori\n",
    "    d_capacitate = truncated(Normal(5, 2), 1, 20)\n",
    "    for id in 11:30\n",
    "        inceput = random_position(model)\n",
    "        sfarsit = random_position(model)\n",
    "        ruta = OSM.plan_route(inceput, sfarsit, model)\n",
    "        capacitate = rand(d_capacitate)\n",
    "        prob_livrare = rand(d_prob_livrare_corecta)\n",
    "        timp_transfer = rand(d_timpi_transfer, 1)\n",
    "        transportor = Transportor(id, inceput, ruta, sfarsit, capacitate, 0., prob_livrare, timp_transfer)\n",
    "        add_agent_pos!(transportor, model)\n",
    "    end\n",
    "    return model\n",
    "end"
   ]
  },
  {
   "cell_type": "code",
   "execution_count": null,
   "id": "1aa1d89b-2a38-4bed-9f13-4f8e3446f9d7",
   "metadata": {
    "gradient": {
     "editing": false,
     "execution_count": 23,
     "id": "1aa1d89b-2a38-4bed-9f13-4f8e3446f9d7",
     "kernelId": "c642d690-7aa8-4222-aeda-0f570c577bf1"
    }
   },
   "outputs": [],
   "source": [
    "m = initialise()"
   ]
  },
  {
   "cell_type": "code",
   "execution_count": null,
   "id": "6a5f23dd-5d7e-4d0e-aa4e-f2035d11e4fe",
   "metadata": {
    "gradient": {
     "editing": false,
     "execution_count": 27,
     "id": "6a5f23dd-5d7e-4d0e-aa4e-f2035d11e4fe",
     "kernelId": "c642d690-7aa8-4222-aeda-0f570c577bf1"
    }
   },
   "outputs": [],
   "source": [
    "a = m[1]"
   ]
  },
  {
   "cell_type": "code",
   "execution_count": null,
   "id": "38048862-7f4c-4ab8-9e89-9dc0c19a2c79",
   "metadata": {
    "gradient": {
     "editing": false,
     "execution_count": 28,
     "id": "38048862-7f4c-4ab8-9e89-9dc0c19a2c79",
     "kernelId": "c642d690-7aa8-4222-aeda-0f570c577bf1"
    }
   },
   "outputs": [],
   "source": [
    "a."
   ]
  },
  {
   "cell_type": "code",
   "execution_count": null,
   "id": "8d014e4c-0cd6-4619-bac4-09066f3f645e",
   "metadata": {
    "gradient": {
     "execution_count": 14,
     "id": "8d014e4c-0cd6-4619-bac4-09066f3f645e",
     "kernelId": "c642d690-7aa8-4222-aeda-0f570c577bf1"
    }
   },
   "outputs": [],
   "source": [
    "function plotagents(model)\n",
    "    ids = model.scheduler(model)\n",
    "    markers = :circle\n",
    "    pos = [OSM.map_coordinates(model[i], model) for i in ids]\n",
    "\n",
    "    scatter!(\n",
    "        pos;\n",
    "        markershapes = markers,\n",
    "        label = \"\",\n",
    "        markerstrokewidth = 0.5,\n",
    "        markerstrokecolor = :black,\n",
    "        markeralpha = 0.7,\n",
    "    )\n",
    "end"
   ]
  },
  {
   "cell_type": "code",
   "execution_count": null,
   "id": "234d5120-ac4b-43ed-9aad-085dc35e4bf7",
   "metadata": {
    "gradient": {
     "execution_count": 15,
     "id": "234d5120-ac4b-43ed-9aad-085dc35e4bf7",
     "kernelId": "c642d690-7aa8-4222-aeda-0f570c577bf1"
    }
   },
   "outputs": [],
   "source": [
    "plotmap(m.space.m)\n",
    "plotagents(m)"
   ]
  },
  {
   "cell_type": "code",
   "execution_count": null,
   "id": "52b9176b-5edb-4137-890e-0b4dd12854a7",
   "metadata": {
    "gradient": {
     "id": "52b9176b-5edb-4137-890e-0b4dd12854a7",
     "kernelId": "c642d690-7aa8-4222-aeda-0f570c577bf1"
    }
   },
   "outputs": [],
   "source": []
  }
 ],
 "metadata": {
  "kernelspec": {
   "display_name": "Julia 1.6.3",
   "language": "julia",
   "name": "julia-1.6"
  },
  "language_info": {
   "file_extension": ".jl",
   "mimetype": "application/julia",
   "name": "julia",
   "version": "1.6.3"
  }
 },
 "nbformat": 4,
 "nbformat_minor": 5
}
